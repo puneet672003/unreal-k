{
 "cells": [
  {
   "cell_type": "code",
   "execution_count": 10,
   "id": "e5030c6d-896c-4dc4-a35d-79b19e3a36d2",
   "metadata": {},
   "outputs": [],
   "source": [
    "import yt_dlp\n",
    "\n",
    "def get_video_ids_from_playlist(playlist_url):\n",
    "    ydl_opts = {\n",
    "        'quiet': True,\n",
    "        'extract_flat': True,\n",
    "    }\n",
    "    \n",
    "    with yt_dlp.YoutubeDL(ydl_opts) as ydl:\n",
    "        result = ydl.extract_info(playlist_url, download=False)\n",
    "        \n",
    "        if 'entries' in result:\n",
    "            video_info = [{\n",
    "                'id': entry['id'],\n",
    "                'title': entry['title'],\n",
    "                'url': f\"https://www.youtube.com/watch?v={entry['id']}\"\n",
    "            } for entry in result['entries']]\n",
    "            return video_info\n",
    "        else:\n",
    "            print(\"Not a valid playlist URL.\")\n",
    "            return []\n",
    "\n",
    "playlist_url = \"https://www.youtube.com/playlist?list=PLYxtGyYUCbEGk0TkTw6iLZrYObQ-OGqCR\"\n",
    "video_info = get_video_ids_from_playlist(playlist_url)"
   ]
  },
  {
   "cell_type": "code",
   "execution_count": 30,
   "id": "b8d12169-b3ab-4f85-b0c4-a40f070b3898",
   "metadata": {},
   "outputs": [
    {
     "name": "stdout",
     "output_type": "stream",
     "text": [
      "Downloading and converting transcripts to documents: \n"
     ]
    },
    {
     "name": "stderr",
     "output_type": "stream",
     "text": [
      "100%|████████████████████████████████████████████████████████████████████████████████████████████████████████████████████████| 159/159 [02:47<00:00,  1.05s/it]"
     ]
    },
    {
     "name": "stdout",
     "output_type": "stream",
     "text": [
      "Done!\n",
      "Failed video ids:  ['eA2uA0D8w_I', 'VVFhdR0e4AE', '7-23_WfZ4Lk', 'UHw75Nu-BUQ', 'RkXOnq10G-s', 'ASh_9dRnmv4']\n"
     ]
    },
    {
     "name": "stderr",
     "output_type": "stream",
     "text": [
      "\n"
     ]
    }
   ],
   "source": [
    "import re\n",
    "from tqdm import tqdm\n",
    "from langchain.schema import Document\n",
    "from youtube_transcript_api import YouTubeTranscriptApi\n",
    "\n",
    "failed = []\n",
    "\n",
    "def clean_text(text):\n",
    "    cleaned_text = text.encode(\"utf-8\", \"ignore\").decode(\"utf-8\")\n",
    "    cleaned_text = re.sub(r\"[^a-zA-Z0-9\\s]\", \"\", cleaned_text)\n",
    "\n",
    "    return cleaned_text\n",
    "\n",
    "def download_transcript(video_id):\n",
    "    try: \n",
    "        transcript = YouTubeTranscriptApi.get_transcript(video_id)\n",
    "    except:\n",
    "        failed.append(video_id)\n",
    "        pass\n",
    "    text = \" \".join([t[\"text\"] for t in transcript])\n",
    "    text = clean_text(text)\n",
    "    return text\n",
    "\n",
    "print(\"Downloading and converting transcripts to documents: \")\n",
    "\n",
    "documents = []\n",
    "for vi in tqdm(video_info):\n",
    "    vid, title, url = vi.values()\n",
    "    try:\n",
    "        transcript = download_transcript(vid)\n",
    "    except:\n",
    "        continue\n",
    "    metadata = {\"source\": title, \"url\": url}\n",
    "    document = Document(page_content=transcript, metadata=metadata)\n",
    "    documents.append(document)\n",
    "\n",
    "print(\"Done!\")\n",
    "print(\"Failed video ids: \", failed)"
   ]
  },
  {
   "cell_type": "code",
   "execution_count": 50,
   "id": "965a0c88-ede8-4343-b086-06642bd22eef",
   "metadata": {},
   "outputs": [
    {
     "name": "stdout",
     "output_type": "stream",
     "text": [
      "Splitting and storing documents: \n"
     ]
    },
    {
     "name": "stderr",
     "output_type": "stream",
     "text": [
      "100%|██████████████████████████████████████████████████████████████████████████████████████████████████████████████████████| 153/153 [2:30:03<00:00, 58.85s/it]"
     ]
    },
    {
     "name": "stdout",
     "output_type": "stream",
     "text": [
      "done\n"
     ]
    },
    {
     "name": "stderr",
     "output_type": "stream",
     "text": [
      "\n"
     ]
    }
   ],
   "source": [
    "import faiss\n",
    "from uuid import uuid4\n",
    "from langchain_community.docstore.in_memory import InMemoryDocstore\n",
    "from langchain_text_splitters import RecursiveCharacterTextSplitter\n",
    "from langchain_huggingface import HuggingFaceEmbeddings\n",
    "from langchain_community.vectorstores import FAISS\n",
    "\n",
    "embeddings = HuggingFaceEmbeddings(model_name=\"sentence-transformers/all-mpnet-base-v2\")\n",
    "index = faiss.IndexFlatL2(len(embeddings.embed_query(\"hello world\")))\n",
    "vector_store = FAISS(\n",
    "    embedding_function=embeddings,\n",
    "    index=index,\n",
    "    docstore=InMemoryDocstore(),\n",
    "    index_to_docstore_id={},\n",
    ")\n",
    "\n",
    "text_splitter = RecursiveCharacterTextSplitter(\n",
    "    chunk_size = 1000,\n",
    "    chunk_overlap = 200,\n",
    "    length_function = len,\n",
    "    is_separator_regex=False\n",
    ")\n",
    "\n",
    "print(\"Splitting and storing documents: \")\n",
    "\n",
    "for doc in tqdm(documents):\n",
    "    chunks = text_splitter.split_text(doc.page_content)\n",
    "    batch = []\n",
    "    for chunk in chunks:\n",
    "        doc = Document(chunk, metadata=doc.metadata)\n",
    "        batch.append(doc)\n",
    "\n",
    "    ids = [uuid4() for i in range(len(batch))]\n",
    "    vector_store.add_documents(batch, ids=ids)\n",
    "\n",
    "print(\"done\")"
   ]
  },
  {
   "cell_type": "code",
   "execution_count": 51,
   "id": "734361bc-87bc-4318-9d4c-8b2a6f7cdad1",
   "metadata": {},
   "outputs": [],
   "source": [
    "vector_store.save_local(\"faiss_index\")"
   ]
  },
  {
   "cell_type": "code",
   "execution_count": null,
   "id": "b71d54dd-ec10-4135-b63b-9b9ae47f459b",
   "metadata": {},
   "outputs": [],
   "source": []
  }
 ],
 "metadata": {
  "kernelspec": {
   "display_name": "Python 3.13",
   "language": "python",
   "name": "python3.13"
  },
  "language_info": {
   "codemirror_mode": {
    "name": "ipython",
    "version": 3
   },
   "file_extension": ".py",
   "mimetype": "text/x-python",
   "name": "python",
   "nbconvert_exporter": "python",
   "pygments_lexer": "ipython3",
   "version": "3.13.0"
  }
 },
 "nbformat": 4,
 "nbformat_minor": 5
}
